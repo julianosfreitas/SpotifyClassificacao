{
  "nbformat": 4,
  "nbformat_minor": 0,
  "metadata": {
    "colab": {
      "provenance": [],
      "toc_visible": true,
      "authorship_tag": "ABX9TyOoFdVWZIQwjv5wcV5uSekq",
      "include_colab_link": true
    },
    "kernelspec": {
      "name": "python3",
      "display_name": "Python 3"
    },
    "language_info": {
      "name": "python"
    }
  },
  "cells": [
    {
      "cell_type": "markdown",
      "metadata": {
        "id": "view-in-github",
        "colab_type": "text"
      },
      "source": [
        "<a href=\"https://colab.research.google.com/github/julianosfreitas/SpotifyClassificacao/blob/main/SpotifyClassificacao.ipynb\" target=\"_parent\"><img src=\"https://colab.research.google.com/assets/colab-badge.svg\" alt=\"Open In Colab\"/></a>"
      ]
    },
    {
      "cell_type": "markdown",
      "source": [
        "# Classificação de músicas do Spotify 🎵.\n",
        "\n",
        "## Sobre a base de dados:🎲\n",
        "Este é um conjunto de dados de faixas do Spotify em uma variedade de 125 gêneros diferentes. Cada faixa possui alguns recursos de áudio associados a ela.\n",
        "\n",
        "## Uso da base: 🛠️\n",
        "O conjunto de dados pode ser usado para:\n",
        "\n",
        "- Construindo um sistema de recomendação com base em alguma entrada ou preferência do usuário\n",
        "- Finalidades de classificação com base em recursos de áudio e gêneros disponíveis\n",
        "- Qualquer outro aplicativo que você possa imaginar. Sinta-se à vontade para discutir!\n",
        "\n",
        "## **Objetivo do nosso projeto:**🎯\n",
        "\n",
        "Este notebook contempla a criação de um **modelo preditivo para classificar músicas lentas e agitadas** utilizando a base de dados \"Spotify Tracks Dataset\" do Kaggle."
      ],
      "metadata": {
        "id": "PuwXVK9BvQ6v"
      }
    },
    {
      "cell_type": "code",
      "source": [
        "import pandas as pd"
      ],
      "metadata": {
        "id": "E6VBu4VcvV1O"
      },
      "execution_count": 2,
      "outputs": []
    },
    {
      "cell_type": "code",
      "source": [
        "pd.set_option('display.max_columns', None) # mostrar todas as colunas\n",
        "df = pd.read_csv('dataset.csv') # variavel para armezenar os dados\n",
        "df.head() # monstrar as primeiras 5 linhas"
      ],
      "metadata": {
        "colab": {
          "base_uri": "https://localhost:8080/",
          "height": 365
        },
        "id": "sgzHD3GXzSQD",
        "outputId": "4c3fc136-939a-424d-8fb0-a455bbe591f3"
      },
      "execution_count": 3,
      "outputs": [
        {
          "output_type": "execute_result",
          "data": {
            "text/plain": [
              "   Unnamed: 0                track_id                 artists  \\\n",
              "0           0  5SuOikwiRyPMVoIQDJUgSV             Gen Hoshino   \n",
              "1           1  4qPNDBW1i3p13qLCt0Ki3A            Ben Woodward   \n",
              "2           2  1iJBSr7s7jYXzM8EGcbK5b  Ingrid Michaelson;ZAYN   \n",
              "3           3  6lfxq3CG4xtTiEg7opyCyx            Kina Grannis   \n",
              "4           4  5vjLSffimiIP26QG5WcN2K        Chord Overstreet   \n",
              "\n",
              "                                          album_name  \\\n",
              "0                                             Comedy   \n",
              "1                                   Ghost (Acoustic)   \n",
              "2                                     To Begin Again   \n",
              "3  Crazy Rich Asians (Original Motion Picture Sou...   \n",
              "4                                            Hold On   \n",
              "\n",
              "                   track_name  popularity  duration_ms  explicit  \\\n",
              "0                      Comedy          73       230666     False   \n",
              "1            Ghost - Acoustic          55       149610     False   \n",
              "2              To Begin Again          57       210826     False   \n",
              "3  Can't Help Falling In Love          71       201933     False   \n",
              "4                     Hold On          82       198853     False   \n",
              "\n",
              "   danceability  energy  key  loudness  mode  speechiness  acousticness  \\\n",
              "0         0.676  0.4610    1    -6.746     0       0.1430        0.0322   \n",
              "1         0.420  0.1660    1   -17.235     1       0.0763        0.9240   \n",
              "2         0.438  0.3590    0    -9.734     1       0.0557        0.2100   \n",
              "3         0.266  0.0596    0   -18.515     1       0.0363        0.9050   \n",
              "4         0.618  0.4430    2    -9.681     1       0.0526        0.4690   \n",
              "\n",
              "   instrumentalness  liveness  valence    tempo  time_signature track_genre  \n",
              "0          0.000001    0.3580    0.715   87.917               4    acoustic  \n",
              "1          0.000006    0.1010    0.267   77.489               4    acoustic  \n",
              "2          0.000000    0.1170    0.120   76.332               4    acoustic  \n",
              "3          0.000071    0.1320    0.143  181.740               3    acoustic  \n",
              "4          0.000000    0.0829    0.167  119.949               4    acoustic  "
            ],
            "text/html": [
              "\n",
              "  <div id=\"df-01bfdbfc-6231-4ceb-9d10-c89abed7f5fe\" class=\"colab-df-container\">\n",
              "    <div>\n",
              "<style scoped>\n",
              "    .dataframe tbody tr th:only-of-type {\n",
              "        vertical-align: middle;\n",
              "    }\n",
              "\n",
              "    .dataframe tbody tr th {\n",
              "        vertical-align: top;\n",
              "    }\n",
              "\n",
              "    .dataframe thead th {\n",
              "        text-align: right;\n",
              "    }\n",
              "</style>\n",
              "<table border=\"1\" class=\"dataframe\">\n",
              "  <thead>\n",
              "    <tr style=\"text-align: right;\">\n",
              "      <th></th>\n",
              "      <th>Unnamed: 0</th>\n",
              "      <th>track_id</th>\n",
              "      <th>artists</th>\n",
              "      <th>album_name</th>\n",
              "      <th>track_name</th>\n",
              "      <th>popularity</th>\n",
              "      <th>duration_ms</th>\n",
              "      <th>explicit</th>\n",
              "      <th>danceability</th>\n",
              "      <th>energy</th>\n",
              "      <th>key</th>\n",
              "      <th>loudness</th>\n",
              "      <th>mode</th>\n",
              "      <th>speechiness</th>\n",
              "      <th>acousticness</th>\n",
              "      <th>instrumentalness</th>\n",
              "      <th>liveness</th>\n",
              "      <th>valence</th>\n",
              "      <th>tempo</th>\n",
              "      <th>time_signature</th>\n",
              "      <th>track_genre</th>\n",
              "    </tr>\n",
              "  </thead>\n",
              "  <tbody>\n",
              "    <tr>\n",
              "      <th>0</th>\n",
              "      <td>0</td>\n",
              "      <td>5SuOikwiRyPMVoIQDJUgSV</td>\n",
              "      <td>Gen Hoshino</td>\n",
              "      <td>Comedy</td>\n",
              "      <td>Comedy</td>\n",
              "      <td>73</td>\n",
              "      <td>230666</td>\n",
              "      <td>False</td>\n",
              "      <td>0.676</td>\n",
              "      <td>0.4610</td>\n",
              "      <td>1</td>\n",
              "      <td>-6.746</td>\n",
              "      <td>0</td>\n",
              "      <td>0.1430</td>\n",
              "      <td>0.0322</td>\n",
              "      <td>0.000001</td>\n",
              "      <td>0.3580</td>\n",
              "      <td>0.715</td>\n",
              "      <td>87.917</td>\n",
              "      <td>4</td>\n",
              "      <td>acoustic</td>\n",
              "    </tr>\n",
              "    <tr>\n",
              "      <th>1</th>\n",
              "      <td>1</td>\n",
              "      <td>4qPNDBW1i3p13qLCt0Ki3A</td>\n",
              "      <td>Ben Woodward</td>\n",
              "      <td>Ghost (Acoustic)</td>\n",
              "      <td>Ghost - Acoustic</td>\n",
              "      <td>55</td>\n",
              "      <td>149610</td>\n",
              "      <td>False</td>\n",
              "      <td>0.420</td>\n",
              "      <td>0.1660</td>\n",
              "      <td>1</td>\n",
              "      <td>-17.235</td>\n",
              "      <td>1</td>\n",
              "      <td>0.0763</td>\n",
              "      <td>0.9240</td>\n",
              "      <td>0.000006</td>\n",
              "      <td>0.1010</td>\n",
              "      <td>0.267</td>\n",
              "      <td>77.489</td>\n",
              "      <td>4</td>\n",
              "      <td>acoustic</td>\n",
              "    </tr>\n",
              "    <tr>\n",
              "      <th>2</th>\n",
              "      <td>2</td>\n",
              "      <td>1iJBSr7s7jYXzM8EGcbK5b</td>\n",
              "      <td>Ingrid Michaelson;ZAYN</td>\n",
              "      <td>To Begin Again</td>\n",
              "      <td>To Begin Again</td>\n",
              "      <td>57</td>\n",
              "      <td>210826</td>\n",
              "      <td>False</td>\n",
              "      <td>0.438</td>\n",
              "      <td>0.3590</td>\n",
              "      <td>0</td>\n",
              "      <td>-9.734</td>\n",
              "      <td>1</td>\n",
              "      <td>0.0557</td>\n",
              "      <td>0.2100</td>\n",
              "      <td>0.000000</td>\n",
              "      <td>0.1170</td>\n",
              "      <td>0.120</td>\n",
              "      <td>76.332</td>\n",
              "      <td>4</td>\n",
              "      <td>acoustic</td>\n",
              "    </tr>\n",
              "    <tr>\n",
              "      <th>3</th>\n",
              "      <td>3</td>\n",
              "      <td>6lfxq3CG4xtTiEg7opyCyx</td>\n",
              "      <td>Kina Grannis</td>\n",
              "      <td>Crazy Rich Asians (Original Motion Picture Sou...</td>\n",
              "      <td>Can't Help Falling In Love</td>\n",
              "      <td>71</td>\n",
              "      <td>201933</td>\n",
              "      <td>False</td>\n",
              "      <td>0.266</td>\n",
              "      <td>0.0596</td>\n",
              "      <td>0</td>\n",
              "      <td>-18.515</td>\n",
              "      <td>1</td>\n",
              "      <td>0.0363</td>\n",
              "      <td>0.9050</td>\n",
              "      <td>0.000071</td>\n",
              "      <td>0.1320</td>\n",
              "      <td>0.143</td>\n",
              "      <td>181.740</td>\n",
              "      <td>3</td>\n",
              "      <td>acoustic</td>\n",
              "    </tr>\n",
              "    <tr>\n",
              "      <th>4</th>\n",
              "      <td>4</td>\n",
              "      <td>5vjLSffimiIP26QG5WcN2K</td>\n",
              "      <td>Chord Overstreet</td>\n",
              "      <td>Hold On</td>\n",
              "      <td>Hold On</td>\n",
              "      <td>82</td>\n",
              "      <td>198853</td>\n",
              "      <td>False</td>\n",
              "      <td>0.618</td>\n",
              "      <td>0.4430</td>\n",
              "      <td>2</td>\n",
              "      <td>-9.681</td>\n",
              "      <td>1</td>\n",
              "      <td>0.0526</td>\n",
              "      <td>0.4690</td>\n",
              "      <td>0.000000</td>\n",
              "      <td>0.0829</td>\n",
              "      <td>0.167</td>\n",
              "      <td>119.949</td>\n",
              "      <td>4</td>\n",
              "      <td>acoustic</td>\n",
              "    </tr>\n",
              "  </tbody>\n",
              "</table>\n",
              "</div>\n",
              "    <div class=\"colab-df-buttons\">\n",
              "\n",
              "  <div class=\"colab-df-container\">\n",
              "    <button class=\"colab-df-convert\" onclick=\"convertToInteractive('df-01bfdbfc-6231-4ceb-9d10-c89abed7f5fe')\"\n",
              "            title=\"Convert this dataframe to an interactive table.\"\n",
              "            style=\"display:none;\">\n",
              "\n",
              "  <svg xmlns=\"http://www.w3.org/2000/svg\" height=\"24px\" viewBox=\"0 -960 960 960\">\n",
              "    <path d=\"M120-120v-720h720v720H120Zm60-500h600v-160H180v160Zm220 220h160v-160H400v160Zm0 220h160v-160H400v160ZM180-400h160v-160H180v160Zm440 0h160v-160H620v160ZM180-180h160v-160H180v160Zm440 0h160v-160H620v160Z\"/>\n",
              "  </svg>\n",
              "    </button>\n",
              "\n",
              "  <style>\n",
              "    .colab-df-container {\n",
              "      display:flex;\n",
              "      gap: 12px;\n",
              "    }\n",
              "\n",
              "    .colab-df-convert {\n",
              "      background-color: #E8F0FE;\n",
              "      border: none;\n",
              "      border-radius: 50%;\n",
              "      cursor: pointer;\n",
              "      display: none;\n",
              "      fill: #1967D2;\n",
              "      height: 32px;\n",
              "      padding: 0 0 0 0;\n",
              "      width: 32px;\n",
              "    }\n",
              "\n",
              "    .colab-df-convert:hover {\n",
              "      background-color: #E2EBFA;\n",
              "      box-shadow: 0px 1px 2px rgba(60, 64, 67, 0.3), 0px 1px 3px 1px rgba(60, 64, 67, 0.15);\n",
              "      fill: #174EA6;\n",
              "    }\n",
              "\n",
              "    .colab-df-buttons div {\n",
              "      margin-bottom: 4px;\n",
              "    }\n",
              "\n",
              "    [theme=dark] .colab-df-convert {\n",
              "      background-color: #3B4455;\n",
              "      fill: #D2E3FC;\n",
              "    }\n",
              "\n",
              "    [theme=dark] .colab-df-convert:hover {\n",
              "      background-color: #434B5C;\n",
              "      box-shadow: 0px 1px 3px 1px rgba(0, 0, 0, 0.15);\n",
              "      filter: drop-shadow(0px 1px 2px rgba(0, 0, 0, 0.3));\n",
              "      fill: #FFFFFF;\n",
              "    }\n",
              "  </style>\n",
              "\n",
              "    <script>\n",
              "      const buttonEl =\n",
              "        document.querySelector('#df-01bfdbfc-6231-4ceb-9d10-c89abed7f5fe button.colab-df-convert');\n",
              "      buttonEl.style.display =\n",
              "        google.colab.kernel.accessAllowed ? 'block' : 'none';\n",
              "\n",
              "      async function convertToInteractive(key) {\n",
              "        const element = document.querySelector('#df-01bfdbfc-6231-4ceb-9d10-c89abed7f5fe');\n",
              "        const dataTable =\n",
              "          await google.colab.kernel.invokeFunction('convertToInteractive',\n",
              "                                                    [key], {});\n",
              "        if (!dataTable) return;\n",
              "\n",
              "        const docLinkHtml = 'Like what you see? Visit the ' +\n",
              "          '<a target=\"_blank\" href=https://colab.research.google.com/notebooks/data_table.ipynb>data table notebook</a>'\n",
              "          + ' to learn more about interactive tables.';\n",
              "        element.innerHTML = '';\n",
              "        dataTable['output_type'] = 'display_data';\n",
              "        await google.colab.output.renderOutput(dataTable, element);\n",
              "        const docLink = document.createElement('div');\n",
              "        docLink.innerHTML = docLinkHtml;\n",
              "        element.appendChild(docLink);\n",
              "      }\n",
              "    </script>\n",
              "  </div>\n",
              "\n",
              "\n",
              "<div id=\"df-48a9fe86-056f-4c7d-a9b2-cd852fe47166\">\n",
              "  <button class=\"colab-df-quickchart\" onclick=\"quickchart('df-48a9fe86-056f-4c7d-a9b2-cd852fe47166')\"\n",
              "            title=\"Suggest charts\"\n",
              "            style=\"display:none;\">\n",
              "\n",
              "<svg xmlns=\"http://www.w3.org/2000/svg\" height=\"24px\"viewBox=\"0 0 24 24\"\n",
              "     width=\"24px\">\n",
              "    <g>\n",
              "        <path d=\"M19 3H5c-1.1 0-2 .9-2 2v14c0 1.1.9 2 2 2h14c1.1 0 2-.9 2-2V5c0-1.1-.9-2-2-2zM9 17H7v-7h2v7zm4 0h-2V7h2v10zm4 0h-2v-4h2v4z\"/>\n",
              "    </g>\n",
              "</svg>\n",
              "  </button>\n",
              "\n",
              "<style>\n",
              "  .colab-df-quickchart {\n",
              "      --bg-color: #E8F0FE;\n",
              "      --fill-color: #1967D2;\n",
              "      --hover-bg-color: #E2EBFA;\n",
              "      --hover-fill-color: #174EA6;\n",
              "      --disabled-fill-color: #AAA;\n",
              "      --disabled-bg-color: #DDD;\n",
              "  }\n",
              "\n",
              "  [theme=dark] .colab-df-quickchart {\n",
              "      --bg-color: #3B4455;\n",
              "      --fill-color: #D2E3FC;\n",
              "      --hover-bg-color: #434B5C;\n",
              "      --hover-fill-color: #FFFFFF;\n",
              "      --disabled-bg-color: #3B4455;\n",
              "      --disabled-fill-color: #666;\n",
              "  }\n",
              "\n",
              "  .colab-df-quickchart {\n",
              "    background-color: var(--bg-color);\n",
              "    border: none;\n",
              "    border-radius: 50%;\n",
              "    cursor: pointer;\n",
              "    display: none;\n",
              "    fill: var(--fill-color);\n",
              "    height: 32px;\n",
              "    padding: 0;\n",
              "    width: 32px;\n",
              "  }\n",
              "\n",
              "  .colab-df-quickchart:hover {\n",
              "    background-color: var(--hover-bg-color);\n",
              "    box-shadow: 0 1px 2px rgba(60, 64, 67, 0.3), 0 1px 3px 1px rgba(60, 64, 67, 0.15);\n",
              "    fill: var(--button-hover-fill-color);\n",
              "  }\n",
              "\n",
              "  .colab-df-quickchart-complete:disabled,\n",
              "  .colab-df-quickchart-complete:disabled:hover {\n",
              "    background-color: var(--disabled-bg-color);\n",
              "    fill: var(--disabled-fill-color);\n",
              "    box-shadow: none;\n",
              "  }\n",
              "\n",
              "  .colab-df-spinner {\n",
              "    border: 2px solid var(--fill-color);\n",
              "    border-color: transparent;\n",
              "    border-bottom-color: var(--fill-color);\n",
              "    animation:\n",
              "      spin 1s steps(1) infinite;\n",
              "  }\n",
              "\n",
              "  @keyframes spin {\n",
              "    0% {\n",
              "      border-color: transparent;\n",
              "      border-bottom-color: var(--fill-color);\n",
              "      border-left-color: var(--fill-color);\n",
              "    }\n",
              "    20% {\n",
              "      border-color: transparent;\n",
              "      border-left-color: var(--fill-color);\n",
              "      border-top-color: var(--fill-color);\n",
              "    }\n",
              "    30% {\n",
              "      border-color: transparent;\n",
              "      border-left-color: var(--fill-color);\n",
              "      border-top-color: var(--fill-color);\n",
              "      border-right-color: var(--fill-color);\n",
              "    }\n",
              "    40% {\n",
              "      border-color: transparent;\n",
              "      border-right-color: var(--fill-color);\n",
              "      border-top-color: var(--fill-color);\n",
              "    }\n",
              "    60% {\n",
              "      border-color: transparent;\n",
              "      border-right-color: var(--fill-color);\n",
              "    }\n",
              "    80% {\n",
              "      border-color: transparent;\n",
              "      border-right-color: var(--fill-color);\n",
              "      border-bottom-color: var(--fill-color);\n",
              "    }\n",
              "    90% {\n",
              "      border-color: transparent;\n",
              "      border-bottom-color: var(--fill-color);\n",
              "    }\n",
              "  }\n",
              "</style>\n",
              "\n",
              "  <script>\n",
              "    async function quickchart(key) {\n",
              "      const quickchartButtonEl =\n",
              "        document.querySelector('#' + key + ' button');\n",
              "      quickchartButtonEl.disabled = true;  // To prevent multiple clicks.\n",
              "      quickchartButtonEl.classList.add('colab-df-spinner');\n",
              "      try {\n",
              "        const charts = await google.colab.kernel.invokeFunction(\n",
              "            'suggestCharts', [key], {});\n",
              "      } catch (error) {\n",
              "        console.error('Error during call to suggestCharts:', error);\n",
              "      }\n",
              "      quickchartButtonEl.classList.remove('colab-df-spinner');\n",
              "      quickchartButtonEl.classList.add('colab-df-quickchart-complete');\n",
              "    }\n",
              "    (() => {\n",
              "      let quickchartButtonEl =\n",
              "        document.querySelector('#df-48a9fe86-056f-4c7d-a9b2-cd852fe47166 button');\n",
              "      quickchartButtonEl.style.display =\n",
              "        google.colab.kernel.accessAllowed ? 'block' : 'none';\n",
              "    })();\n",
              "  </script>\n",
              "</div>\n",
              "\n",
              "    </div>\n",
              "  </div>\n"
            ],
            "application/vnd.google.colaboratory.intrinsic+json": {
              "type": "dataframe",
              "variable_name": "df"
            }
          },
          "metadata": {},
          "execution_count": 3
        }
      ]
    },
    {
      "cell_type": "code",
      "source": [
        "df.shape"
      ],
      "metadata": {
        "colab": {
          "base_uri": "https://localhost:8080/"
        },
        "id": "zPc7T5yKzeW9",
        "outputId": "a20bcf95-5096-4a47-fe42-3bf258d49442"
      },
      "execution_count": 4,
      "outputs": [
        {
          "output_type": "execute_result",
          "data": {
            "text/plain": [
              "(114000, 21)"
            ]
          },
          "metadata": {},
          "execution_count": 4
        }
      ]
    },
    {
      "cell_type": "markdown",
      "source": [
        "# **Criando a variável target**🎯"
      ],
      "metadata": {
        "id": "KgiNTZLT3keF"
      }
    },
    {
      "cell_type": "markdown",
      "source": [
        "De acordo com a regra de negócio, a coluna valence é uma medida de **0,0 a 1,0 que descreve a positividade musical transmitida por uma faixa**. Faixas com **alta valência soam mais positivas** (por exemplo, feliz, alegre, eufórica), enquanto faixas com **baixa valência** soam mais negativas (por exemplo, triste, deprimida, irritada).\n",
        "Para criar a nossa coluna alvo do modelo preditivo, vamos utizar a coluna \"valence\" para ser nosso critério de músicas agitadas ou lentas.\n",
        "\n"
      ],
      "metadata": {
        "id": "1zzYi9eS3qOv"
      }
    },
    {
      "cell_type": "code",
      "source": [
        "import matplotlib.pyplot as plt\n",
        "\n",
        "# Analisando a coluna \"valence\" para criar a nossa target\n",
        "plt.hist(df['valence'], bins=20, color='red', edgecolor='yellow')\n",
        "\n",
        "# nomear a linha X\n",
        "plt.xlabel('Valence')\n",
        "# nomear a linha Y\n",
        "plt.ylabel('Frequência')\n",
        "# nomear a tabela\n",
        "plt.title('Histograma da Coluna Valence')\n",
        "\n",
        "# mostrar a tabela\n",
        "plt.show()"
      ],
      "metadata": {
        "colab": {
          "base_uri": "https://localhost:8080/",
          "height": 472
        },
        "id": "JFo1bbdn3lnw",
        "outputId": "52428c85-06a2-4f97-9974-35888ed8fb35"
      },
      "execution_count": 5,
      "outputs": [
        {
          "output_type": "display_data",
          "data": {
            "text/plain": [
              "<Figure size 640x480 with 1 Axes>"
            ],
            "image/png": "[encoded data removed]"
          },
          "metadata": {}
        }
      ]
    },
    {
      "cell_type": "code",
      "source": [
        "df['valence'].describe()"
      ],
      "metadata": {
        "id": "uhOWWAHe3xQf"
      },
      "execution_count": null,
      "outputs": []
    },
    {
      "cell_type": "code",
      "source": [
        "# função que classifica a valência de uma música em:\n",
        "# se maior que 0.5 \"agitada\"\n",
        "# se menor que 0.5 \"lenta\"\n",
        "\n",
        "def categorizar_valence(row):\n",
        "  if row['valence'] > 0.5:\n",
        "    return 'afgitada'\n",
        "  else:\n",
        "    return 'lenta'\n",
        "\n",
        "  # Crie nova coluna 'target' usando a função categorizar_valence\n",
        "df['target'] = df.apply(categorizar_valence, axis=1)\n",
        "df.head()"
      ],
      "metadata": {
        "id": "lJ1J6cRs6Bp-"
      },
      "execution_count": null,
      "outputs": []
    },
    {
      "cell_type": "code",
      "source": [
        "df.tail() # ver as 5 ultimas linhas"
      ],
      "metadata": {
        "id": "PPWto2uG6nQl"
      },
      "execution_count": null,
      "outputs": []
    },
    {
      "cell_type": "markdown",
      "source": [
        "# **Feature Engineering**  🛠️\n",
        "\n",
        "Como próximo passo, vamos armazenar em um novo dataframe apenas as colunas necessárias para nossa classificação de músicas.\n"
      ],
      "metadata": {
        "id": "xiZbt0zwjHr-"
      }
    },
    {
      "cell_type": "code",
      "source": [
        "df.columns"
      ],
      "metadata": {
        "id": "69N0pv83jLCv"
      },
      "execution_count": null,
      "outputs": []
    },
    {
      "cell_type": "code",
      "source": [
        "df_musica = df.drop(['Unnamed: 0', 'track_id'], axis=1)\n",
        "df_musica.head()"
      ],
      "metadata": {
        "id": "ygbDYc_UnBsq"
      },
      "execution_count": null,
      "outputs": []
    },
    {
      "cell_type": "markdown",
      "source": [],
      "metadata": {
        "id": "4PJjoiRkp91n"
      }
    },
    {
      "cell_type": "markdown",
      "source": [
        "# Tratando os dados categóricos 🅰️\n",
        "\n",
        "**LabelEncoder**: Essa classe é utilizada para codificar rótulos de classes em números inteiros. É frequentemente usado quando se trabalha com algoritmos de aprendizado supervisionado que requerem rótulos numéricos. (ou One-Hot Encoding)"
      ],
      "metadata": {
        "id": "EbNa7pPUp-LO"
      }
    },
    {
      "cell_type": "code",
      "source": [
        "def label_encoder_dataframe(df, columns_to_encode):\n",
        "    from sklearn.preprocessing import LabelEncoder\n",
        "    le = LabelEncoder()\n",
        "\n",
        "    for column in columns_to_encode:\n",
        "        if column in df.columns:\n",
        "            df[column] = le.fit_transform(df[column])\n",
        "        else:\n",
        "            print('A lista possui colunas que não existem no DataFrame.')\n",
        "\n",
        "    return df\n",
        "\n",
        "colunas_a_codificar = ['artists', 'album_name', 'track_name', 'explicit', 'track_genre', 'target']\n",
        "label_encoder_dataframe(df_musica, colunas_a_codificar)\n",
        "df_musica.head()"
      ],
      "metadata": {
        "id": "PR11ch4mqA7Z"
      },
      "execution_count": null,
      "outputs": []
    },
    {
      "cell_type": "markdown",
      "source": [
        "# Analisando as variáveis que vão compor nosso modelo 📊\n"
      ],
      "metadata": {
        "id": "SWo7fNynrqKe"
      }
    },
    {
      "cell_type": "code",
      "source": [
        "import seaborn as sns\n",
        "\n",
        "correlation_matrix = df_musica.corr().round(2)\n",
        "\n",
        "fig, ax = plt.subplots(figsize=(12,10))\n",
        "sns.heatmap(data=correlation_matrix, annot=True, linewidths=.5, ax=ax, cmap=\"coolwarm\")"
      ],
      "metadata": {
        "id": "l5QX7EzirrN6"
      },
      "execution_count": null,
      "outputs": []
    },
    {
      "cell_type": "markdown",
      "source": [
        "# Entendendo o equilíbrio da target 🎯"
      ],
      "metadata": {
        "id": "0DYBDH1utNFH"
      }
    },
    {
      "cell_type": "code",
      "source": [
        "# Verificando o equilíbrio das classes\n",
        "round(df_musica['target'].value_counts(normalize = True)*100,2)"
      ],
      "metadata": {
        "id": "BjhyW2DDtOw1"
      },
      "execution_count": null,
      "outputs": []
    },
    {
      "cell_type": "code",
      "source": [
        "set(df['target'])"
      ],
      "metadata": {
        "id": "GXW9yqastQE2"
      },
      "execution_count": null,
      "outputs": []
    },
    {
      "cell_type": "code",
      "source": [
        "set(df_musica['target'])"
      ],
      "metadata": {
        "id": "xAnHGlhJtRVA"
      },
      "execution_count": null,
      "outputs": []
    },
    {
      "cell_type": "markdown",
      "source": [
        "# Separando os dados em treino e teste 🔄"
      ],
      "metadata": {
        "id": "_ZgqPtCFr2mg"
      }
    },
    {
      "cell_type": "code",
      "source": [
        "df_musica.columns"
      ],
      "metadata": {
        "id": "Hx4QLjdvr78g"
      },
      "execution_count": null,
      "outputs": []
    },
    {
      "cell_type": "code",
      "source": [
        "# separando os dados em treino e teste (método hold out)\n",
        "from sklearn.model_selection import train_test_split\n",
        "\n",
        "#X = df_musica.drop('target', axis=1)\n",
        "X = df_musica[['popularity', 'duration_ms', 'danceability', 'energy', 'loudness', 'acousticness', 'instrumentalness', 'liveness', 'track_genre']]\n",
        "y = df_musica['target']\n",
        "\n",
        "X_train, X_test, y_train, y_test = train_test_split(X, y, test_size=0.2, stratify=y, random_state=7)"
      ],
      "metadata": {
        "id": "tgOxYBNpr8au"
      },
      "execution_count": null,
      "outputs": []
    },
    {
      "cell_type": "code",
      "source": [
        "print(X_train.shape, X_test.shape)"
      ],
      "metadata": {
        "id": "am_gj3Our9nL"
      },
      "execution_count": null,
      "outputs": []
    },
    {
      "cell_type": "markdown",
      "source": [
        "# Normalizando os dados 📏\n",
        "Ao aplicar o MinMaxScaler, todos os valores dos dados serão transformados para o intervalo entre 0 e 1, onde o valor mínimo será 0 e o valor máximo será 1. Essa técnica é especialmente útil quando os algoritmos de aprendizado de máquina são sensíveis à escala dos dados.\n",
        "\n",
        "Por que aplicamos a normalização dos dados com as bases já separadas em treino e teste? 🤔\n",
        "Se aplicarmos normalizações antes de dividir em conjuntos de treino e teste, podemos acabar introduzindo informações do conjunto de teste no conjunto de treino. Isso pode levar a uma avaliação otimista do desempenho do modelo, uma vez que o modelo terá visto parte dos dados de teste durante o treinamento. Este tipo de problema também é chamado de **Data Leak (vazamento de dados)**."
      ],
      "metadata": {
        "id": "ylkDj2ohr_oe"
      }
    },
    {
      "cell_type": "code",
      "source": [
        "from sklearn.preprocessing import MinMaxScaler\n",
        "\n",
        "# Criar uma instância do MinMaxScaler\n",
        "scaler = MinMaxScaler()\n",
        "\n",
        "scaler.fit(X_train) # aqui falar sobre data leak\n",
        "\n",
        "X_train_escalonado = scaler.transform(X_train)\n",
        "X_test_escalonado = scaler.transform(X_test)\n"
      ],
      "metadata": {
        "id": "NBfYBPd1sBZ0"
      },
      "execution_count": null,
      "outputs": []
    },
    {
      "cell_type": "markdown",
      "source": [
        "# Criando uma função para executar modelos de machine learning 🚀"
      ],
      "metadata": {
        "id": "1EGoWRSDsFws"
      }
    },
    {
      "cell_type": "markdown",
      "source": [
        "Vamos criar uma função que vai executar o modelo preditivo e avaliar a sua performance utilizando as principais métricas de validação."
      ],
      "metadata": {
        "id": "rOdCW2X1sIKD"
      }
    },
    {
      "cell_type": "code",
      "source": [
        "def roda_modelo(modelo):\n",
        "\n",
        "    from sklearn.metrics import roc_curve, roc_auc_score, classification_report\n",
        "\n",
        "    # Treinando modelo com os dados de treino\n",
        "    modelo.fit(X_train_escalonado, y_train)\n",
        "\n",
        "    # Calculando a probabilidade e calculando o AUC\n",
        "    prob_predic = modelo.predict_proba(X_test_escalonado) # obter as probabilidades associadas às classes previstas para cada instância de dados\n",
        "    auc = roc_auc_score(y_test, prob_predic[:,1])\n",
        "    print(f\"AUC {auc}\")\n",
        "\n",
        "    # Fazendo a predicao dos dados de teste e calculando o classification report\n",
        "    predicao = modelo.predict(X_test_escalonado)\n",
        "    print(\"\\nClassification Report\")\n",
        "    print(classification_report(y_test, predicao))\n",
        "\n",
        "    print(\"\\nRoc Curve\\n\")\n",
        "    # Fazer previsões de probabilidades\n",
        "    y_pred_probs = modelo.predict_proba(X_test_escalonado)[:, 1]\n",
        "\n",
        "    # Calcular a curva ROC\n",
        "    fpr, tpr, thresholds = roc_curve(y_test, y_pred_probs)\n",
        "\n",
        "    # Calcular a AUC (área sob a curva ROC)\n",
        "    auc = roc_auc_score(y_test, y_pred_probs)\n",
        "\n",
        "    # Plotar a curva ROC\n",
        "    plt.figure(figsize=(8, 6))\n",
        "    plt.plot(fpr, tpr, color='blue', label=f'ROC curve (AUC = {auc:.2f})') # linewidth\n",
        "    plt.plot([0, 1], [0, 1], color='gray',linestyle='--')\n",
        "    plt.xlabel('Taxa de Falso Positivo')\n",
        "    plt.ylabel('Taxa de Verdadeiro Positivo')\n",
        "    plt.title('Curva ROC')\n",
        "    plt.legend(loc='lower right')\n",
        "    plt.show()\n",
        "\n",
        "    # Converter probabilidades em classes preditas (0 ou 1)\n",
        "    y_pred = (y_pred_probs > 0.5).astype(int)"
      ],
      "metadata": {
        "id": "1SK8B4p1sDea"
      },
      "execution_count": 19,
      "outputs": []
    },
    {
      "cell_type": "markdown",
      "source": [
        "# Regressão logística\n",
        "O modelo se baseia em uma **função logística**, que transforma as variáveis independentes em uma probabilidade entre 0 e 1.  Para novas entradas de dados, o modelo calcula a **probabilidade do evento binário ocorrer**."
      ],
      "metadata": {
        "id": "9rtgxb8dsNKk"
      }
    },
    {
      "cell_type": "code",
      "source": [
        "from sklearn.linear_model import LogisticRegression\n",
        "modelo_logistico = LogisticRegression()\n",
        "roda_modelo(modelo_logistico)"
      ],
      "metadata": {
        "id": "QnIT0jcOsWmu"
      },
      "execution_count": null,
      "outputs": []
    },
    {
      "cell_type": "markdown",
      "source": [
        "# KNN (K-Nearest Neighbors)\n",
        "Para um novo ponto de dados, o KNN identifica os **K pontos mais próximos (vizinhos)** no conjunto de treinamento. A classe do novo ponto é a classe mais frequente entre os K vizinhos."
      ],
      "metadata": {
        "id": "f0mQLA88sRc0"
      }
    },
    {
      "cell_type": "code",
      "source": [
        "from sklearn.neighbors import KNeighborsClassifier\n",
        "modelo_knn = KNeighborsClassifier(n_neighbors=3)\n",
        "roda_modelo(modelo_knn)"
      ],
      "metadata": {
        "id": "-fKpltR_sOvy"
      },
      "execution_count": null,
      "outputs": []
    },
    {
      "cell_type": "markdown",
      "source": [
        "# Random Florest\n",
        "O Random Forest Classifier é um algoritmo de **ensemble learning**, que **combina vários modelos para melhorar a performance**. O modelo cria uma floresta de árvores de decisão, onde cada árvore é treinada em um subconjunto aleatório dos dados (bootstrap). A classe final do novo ponto de dados é a classe mais votada pelas árvores da floresta."
      ],
      "metadata": {
        "id": "M3OVS6gYsZKD"
      }
    },
    {
      "cell_type": "code",
      "source": [
        "from sklearn.ensemble import RandomForestClassifier\n",
        "modelo_random_forest = RandomForestClassifier(max_depth=7, n_estimators= 100)\n",
        "roda_modelo(modelo_random_forest)"
      ],
      "metadata": {
        "id": "729eYY_msbL8"
      },
      "execution_count": null,
      "outputs": []
    },
    {
      "cell_type": "markdown",
      "source": [
        "# Testando novos parâmetros com Grid Search"
      ],
      "metadata": {
        "id": "aiHSuRBesc6M"
      }
    },
    {
      "cell_type": "markdown",
      "source": [
        "Esse teste pode demorar um pouquinho!"
      ],
      "metadata": {
        "id": "D7VgD0vtsff4"
      }
    },
    {
      "cell_type": "code",
      "source": [
        "from sklearn.model_selection import GridSearchCV\n",
        "\n",
        "# Defina os parâmetros a serem testados\n",
        "param_grid = {\n",
        "    \"n_estimators\": [100, 200, 300],\n",
        "    \"max_depth\": [5, 10, 15]\n",
        "}\n",
        "\n",
        "# GridSearchCV\n",
        "grid_search = GridSearchCV(RandomForestClassifier(), param_grid, cv=5, scoring='f1', n_jobs=1)\n",
        "\n",
        "# Ajuste o modelo ao conjunto de dados\n",
        "grid_search.fit(X_train_escalonado, y_train)\n",
        "\n",
        "rf_params = grid_search.best_params_\n",
        "print(\"Melhores hiperparâmetros:\", rf_params)\n"
      ],
      "metadata": {
        "id": "RIqn_3HwsfRO"
      },
      "execution_count": null,
      "outputs": []
    },
    {
      "cell_type": "markdown",
      "source": [
        "Melhores hiperparâmetros: {'max_depth': 15, 'n_estimators': 300}"
      ],
      "metadata": {
        "id": "XGFbNYTOslTo"
      }
    },
    {
      "cell_type": "markdown",
      "source": [
        "Testando com os melhores parametros encontrados."
      ],
      "metadata": {
        "id": "zv74q7sMslzV"
      }
    },
    {
      "cell_type": "code",
      "source": [
        "from sklearn.ensemble import RandomForestClassifier\n",
        "modelo_random_forest_gs = RandomForestClassifier(max_depth=15, n_estimators= 300)\n",
        "roda_modelo(modelo_random_forest_gs)"
      ],
      "metadata": {
        "id": "U07lAvCGsnZy"
      },
      "execution_count": null,
      "outputs": []
    },
    {
      "cell_type": "markdown",
      "source": [
        "# Testando o modelo 😊"
      ],
      "metadata": {
        "id": "uKEFwkudspdC"
      }
    },
    {
      "cell_type": "code",
      "source": [
        "import numpy as np\n",
        "\n",
        "novos_dados = pd.read_excel(\"novos_dados.xlsx\")\n",
        "base_original = pd.read_excel(\"novos_dados.xlsx\")\n",
        "\n",
        "#Criando a pipeline\n",
        "coluna = ['track_genre']\n",
        "label_encoder_dataframe(novos_dados, coluna)\n",
        "novos_dados = scaler.transform(novos_dados)\n",
        "\n",
        "# Realize a previsão usando o modelo Random Forest treinado\n",
        "previsoes = modelo_random_forest_gs.predict(novos_dados)\n",
        "\n",
        "# Obtendo o predict\n",
        "def mapear_valor(valores):\n",
        "    resultados = []\n",
        "    for valor in valores:\n",
        "        if valor == 0:\n",
        "            resultados.append('Música agitada')\n",
        "        elif valor == 1:\n",
        "            resultados.append('Música lenta')\n",
        "        else:\n",
        "            resultados.append('Desconhecido')\n",
        "    return np.array(resultados)\n",
        "\n",
        "base_original['target'] = mapear_valor(previsoes)\n",
        "base_original.head()"
      ],
      "metadata": {
        "id": "Vjy4k-ZNsrI_"
      },
      "execution_count": null,
      "outputs": []
    }
  ]
}